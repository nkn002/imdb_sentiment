{
  "nbformat": 4,
  "nbformat_minor": 0,
  "metadata": {
    "colab": {
      "name": "imdb_clfs_Roberta.ipynb",
      "provenance": [],
      "collapsed_sections": [],
      "machine_shape": "hm"
    },
    "kernelspec": {
      "name": "python3",
      "display_name": "Python 3"
    },
    "language_info": {
      "name": "python"
    },
    "accelerator": "GPU"
  },
  "cells": [
    {
      "cell_type": "code",
      "source": [
        "%%capture\n",
        "!pip install transformers"
      ],
      "metadata": {
        "id": "6qgJW8Y7DEj7"
      },
      "execution_count": 1,
      "outputs": []
    },
    {
      "cell_type": "code",
      "source": [
        "%%capture\n",
        "!pip install nlp"
      ],
      "metadata": {
        "id": "cp2ETxKrJzna"
      },
      "execution_count": 2,
      "outputs": []
    },
    {
      "cell_type": "code",
      "source": [
        "import transformers\n",
        "import torch\n",
        "import numpy as np\n",
        "import nlp\n",
        "import utils.train_utils as train_utils\n",
        "import utils.data_utils as data_utils\n",
        "from sklearn.model_selection import train_test_split\n",
        "from config import Config\n",
        "\n",
        "config = Config()"
      ],
      "metadata": {
        "id": "9JOrX709DSpv",
        "colab": {
          "base_uri": "https://localhost:8080/"
        },
        "outputId": "daef0523-a9c4-4eab-afb1-edfdc051cf01"
      },
      "execution_count": 3,
      "outputs": [
        {
          "output_type": "stream",
          "name": "stdout",
          "text": [
            "cuda\n"
          ]
        }
      ]
    },
    {
      "cell_type": "code",
      "source": [
        "ds_train = nlp.load_dataset('imdb', split='train').shuffle()\n",
        "ds_val_test = nlp.load_dataset('imdb', split='test').shuffle()\n",
        "ds_val, ds_test = train_test_split(ds_val_test, test_size=0.25)\n",
        "\n",
        "tknzed_train = data_utils.tokenize_data(ds_train)\n",
        "tknzed_val = data_utils.tokenize_data(ds_val)\n",
        "tknzed_test = data_utils.tokenize_data(ds_test)\n",
        "\n",
        "train_dataloader = data_utils.get_dataloader(tknzed_train)\n",
        "val_dataloader = data_utils.get_dataloader(tknzed_val)\n",
        "test_dataloader = data_utils.get_dataloader(tknzed_test)"
      ],
      "metadata": {
        "id": "9FsKUeTUj_1o",
        "colab": {
          "base_uri": "https://localhost:8080/"
        },
        "outputId": "77961ff9-c3aa-4fc6-a7b2-d6afabfcaeaf"
      },
      "execution_count": 4,
      "outputs": [
        {
          "output_type": "stream",
          "name": "stdout",
          "text": [
            "torch.Size([25000, 256])\n",
            "torch.Size([25000, 256])\n",
            "torch.Size([25000])\n",
            "torch.Size([18750, 256])\n",
            "torch.Size([18750, 256])\n",
            "torch.Size([18750])\n",
            "torch.Size([6250, 256])\n",
            "torch.Size([6250, 256])\n",
            "torch.Size([6250])\n"
          ]
        }
      ]
    },
    {
      "cell_type": "code",
      "source": [
        "model = transformers.RobertaForSequenceClassification.from_pretrained(config.model).to('cuda')\n",
        "loss = torch.nn.CrossEntropyLoss().to('cuda')"
      ],
      "metadata": {
        "colab": {
          "base_uri": "https://localhost:8080/"
        },
        "id": "SdKzTqFZKYk2",
        "outputId": "33c1449f-520b-40d6-9b8d-a49dfc8f66ad"
      },
      "execution_count": 11,
      "outputs": [
        {
          "output_type": "stream",
          "name": "stderr",
          "text": [
            "Some weights of the model checkpoint at roberta-base were not used when initializing RobertaForSequenceClassification: ['lm_head.dense.weight', 'roberta.pooler.dense.bias', 'lm_head.decoder.weight', 'lm_head.layer_norm.bias', 'roberta.pooler.dense.weight', 'lm_head.layer_norm.weight', 'lm_head.dense.bias', 'lm_head.bias']\n",
            "- This IS expected if you are initializing RobertaForSequenceClassification from the checkpoint of a model trained on another task or with another architecture (e.g. initializing a BertForSequenceClassification model from a BertForPreTraining model).\n",
            "- This IS NOT expected if you are initializing RobertaForSequenceClassification from the checkpoint of a model that you expect to be exactly identical (initializing a BertForSequenceClassification model from a BertForSequenceClassification model).\n",
            "Some weights of RobertaForSequenceClassification were not initialized from the model checkpoint at roberta-base and are newly initialized: ['classifier.dense.weight', 'classifier.out_proj.weight', 'classifier.out_proj.bias', 'classifier.dense.bias']\n",
            "You should probably TRAIN this model on a down-stream task to be able to use it for predictions and inference.\n"
          ]
        }
      ]
    },
    {
      "cell_type": "code",
      "source": [
        "optimizer = torch.optim.Adam(model.parameters(), lr=config.lr)"
      ],
      "metadata": {
        "id": "G0LVgimxKcot"
      },
      "execution_count": 12,
      "outputs": []
    },
    {
      "cell_type": "code",
      "source": [
        "loss_values, val_loss_values, val_acc = train_utils.run_automodel(auto_model=model, \n",
        "                                                      optimizer=optimizer, \n",
        "                                                      criterion=loss, \n",
        "                                                      epochs=config.epochs, \n",
        "                                                      train_dataloader=train_dataloader, \n",
        "                                                      validation_dataloader=val_dataloader, \n",
        "                                                      verbose=True)\n"
      ],
      "metadata": {
        "colab": {
          "base_uri": "https://localhost:8080/"
        },
        "id": "sGnLmJDEDGDq",
        "outputId": "77b5afd0-72fb-4c50-c11d-989533916910"
      },
      "execution_count": 13,
      "outputs": [
        {
          "output_type": "stream",
          "name": "stdout",
          "text": [
            "\n",
            "======== Epoch 1 / 3 ========\n",
            "Training...\n",
            "\n",
            "  Average training loss: 0.24\n",
            "  Training epcoh took: 0:09:56\n",
            "\n",
            "Running Validation...\n",
            "  Accuracy: 0.93\n",
            "  Average Loss: 0.17\n",
            "  Validation took: 0:02:31\n",
            "\n",
            "======== Epoch 2 / 3 ========\n",
            "Training...\n",
            "\n",
            "  Average training loss: 0.15\n",
            "  Training epcoh took: 0:09:56\n",
            "\n",
            "Running Validation...\n",
            "  Accuracy: 0.93\n",
            "  Average Loss: 0.19\n",
            "  Validation took: 0:02:31\n",
            "\n",
            "======== Epoch 3 / 3 ========\n",
            "Training...\n",
            "\n",
            "  Average training loss: 0.11\n",
            "  Training epcoh took: 0:09:57\n",
            "\n",
            "Running Validation...\n",
            "  Accuracy: 0.94\n",
            "  Average Loss: 0.17\n",
            "  Validation took: 0:02:31\n"
          ]
        }
      ]
    },
    {
      "cell_type": "code",
      "source": [
        "import matplotlib.pyplot as plt\n",
        "\n",
        "plt.plot(range(0, 3), loss_values)\n",
        "plt.plot(range(0, 3), val_loss_values)"
      ],
      "metadata": {
        "colab": {
          "base_uri": "https://localhost:8080/",
          "height": 282
        },
        "id": "8P4Y800vzyJ5",
        "outputId": "4bfd0d69-5d49-4577-c474-41056671984a"
      },
      "execution_count": 15,
      "outputs": [
        {
          "output_type": "execute_result",
          "data": {
            "text/plain": [
              "[<matplotlib.lines.Line2D at 0x7fdf5571c890>]"
            ]
          },
          "metadata": {},
          "execution_count": 15
        },
        {
          "output_type": "display_data",
          "data": {
            "image/png": "[encoded data removed]",
            "text/plain": [
              "<Figure size 432x288 with 1 Axes>"
            ]
          },
          "metadata": {
            "needs_background": "light"
          }
        }
      ]
    },
    {
      "cell_type": "code",
      "source": [
        "train_utils.inference(model, loss, test_dataloader)"
      ],
      "metadata": {
        "id": "FFPLDL-m9c4s",
        "colab": {
          "base_uri": "https://localhost:8080/"
        },
        "outputId": "8d1768b5-f65b-4ada-d950-474630c36ea7"
      },
      "execution_count": 16,
      "outputs": [
        {
          "output_type": "stream",
          "name": "stdout",
          "text": [
            "  Accuracy: 0.94\n",
            "  Average Loss: 0.17\n",
            "  Validation took: 0:00:50\n"
          ]
        }
      ]
    },
    {
      "cell_type": "code",
      "source": [
        ""
      ],
      "metadata": {
        "id": "Da7q4Y6x0RUi"
      },
      "execution_count": null,
      "outputs": []
    }
  ]
}