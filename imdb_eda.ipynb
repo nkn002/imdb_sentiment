{
  "nbformat": 4,
  "nbformat_minor": 0,
  "metadata": {
    "colab": {
      "name": "imdb_eda.ipynb",
      "provenance": [],
      "collapsed_sections": []
    },
    "kernelspec": {
      "name": "python3",
      "display_name": "Python 3"
    },
    "language_info": {
      "name": "python"
    }
  },
  "cells": [
    {
      "cell_type": "code",
      "execution_count": null,
      "metadata": {
        "id": "Tf5W0BEkRitK"
      },
      "outputs": [],
      "source": [
        "pip install nlp"
      ]
    },
    {
      "cell_type": "code",
      "source": [
        "import nlp"
      ],
      "metadata": {
        "id": "ZGf7yV0-Rr-O"
      },
      "execution_count": 3,
      "outputs": []
    },
    {
      "cell_type": "code",
      "source": [
        "ds_train = nlp.load_dataset('imdb', split='train')\n",
        "ds_val = nlp.load_dataset('imdb', split='test')"
      ],
      "metadata": {
        "id": "t0JJSQcfRmma"
      },
      "execution_count": 19,
      "outputs": []
    },
    {
      "cell_type": "code",
      "source": [
        "ds_train.column_names"
      ],
      "metadata": {
        "colab": {
          "base_uri": "https://localhost:8080/"
        },
        "id": "Cu3c_t52RnNN",
        "outputId": "16816427-95a6-4084-acf5-22712b91c2bb"
      },
      "execution_count": 20,
      "outputs": [
        {
          "output_type": "execute_result",
          "data": {
            "text/plain": [
              "['label', 'text']"
            ]
          },
          "metadata": {},
          "execution_count": 20
        }
      ]
    },
    {
      "cell_type": "code",
      "source": [
        ""
      ],
      "metadata": {
        "id": "kEV3CDwwbuEs"
      },
      "execution_count": null,
      "outputs": []
    },
    {
      "cell_type": "code",
      "source": [
        "train_text = ds_train['text']\n",
        "seq_lens = {}\n",
        "for text in train_text:\n",
        "  seq = text.split()\n",
        "  seq_len = len(seq)\n",
        "  if seq_len not in seq_lens:\n",
        "    seq_lens[seq_len] = 1\n",
        "  else:\n",
        "    seq_lens[seq_len] += 1\n"
      ],
      "metadata": {
        "id": "AKO41ZWwSWyU"
      },
      "execution_count": 21,
      "outputs": []
    },
    {
      "cell_type": "code",
      "source": [
        "import matplotlib.pyplot as plt\n",
        "\n",
        "plt.bar(seq_lens.keys(), seq_lens.values())"
      ],
      "metadata": {
        "colab": {
          "base_uri": "https://localhost:8080/",
          "height": 282
        },
        "id": "QpAV8Pj5SQMC",
        "outputId": "592e23f1-d009-43ab-8b53-811cb3663477"
      },
      "execution_count": 22,
      "outputs": [
        {
          "output_type": "execute_result",
          "data": {
            "text/plain": [
              "<BarContainer object of 996 artists>"
            ]
          },
          "metadata": {},
          "execution_count": 22
        },
        {
          "output_type": "display_data",
          "data": {
            "image/png": "[encoded data removed]",
            "text/plain": [
              "<Figure size 432x288 with 1 Axes>"
            ]
          },
          "metadata": {
            "needs_background": "light"
          }
        }
      ]
    },
    {
      "cell_type": "code",
      "source": [
        "train_labels = ds_train['label']\n",
        "print(sum(train_labels)/len(train_labels))\n",
        "plt.plot(range(len(train_labels)), train_labels)"
      ],
      "metadata": {
        "colab": {
          "base_uri": "https://localhost:8080/",
          "height": 300
        },
        "id": "78Ocj5G3TELQ",
        "outputId": "2183b73d-86da-42e2-d875-bd43087e223d"
      },
      "execution_count": 50,
      "outputs": [
        {
          "output_type": "stream",
          "name": "stdout",
          "text": [
            "0.5\n"
          ]
        },
        {
          "output_type": "execute_result",
          "data": {
            "text/plain": [
              "[<matplotlib.lines.Line2D at 0x7fab4d9da110>]"
            ]
          },
          "metadata": {},
          "execution_count": 50
        },
        {
          "output_type": "display_data",
          "data": {
            "image/png": "[encoded data removed]",
            "text/plain": [
              "<Figure size 432x288 with 1 Axes>"
            ]
          },
          "metadata": {
            "needs_background": "light"
          }
        }
      ]
    },
    {
      "cell_type": "code",
      "source": [
        "val_text = ds_val['text']\n",
        "val_seq_lens = {}\n",
        "for text in val_text:\n",
        "  seq = text.split()\n",
        "  seq_len = len(seq)\n",
        "\n",
        "  if seq_len not in val_seq_lens:\n",
        "    val_seq_lens[seq_len] = 1\n",
        "  else:\n",
        "    val_seq_lens[seq_len] += 1"
      ],
      "metadata": {
        "id": "K6eHkplXVeTu"
      },
      "execution_count": 48,
      "outputs": []
    },
    {
      "cell_type": "code",
      "source": [
        "plt.bar(val_seq_lens.keys(), val_seq_lens.values())"
      ],
      "metadata": {
        "colab": {
          "base_uri": "https://localhost:8080/",
          "height": 282
        },
        "id": "6qwyPkLwWdzt",
        "outputId": "346a99f7-a702-413c-892a-d12c9aeef484"
      },
      "execution_count": 36,
      "outputs": [
        {
          "output_type": "execute_result",
          "data": {
            "text/plain": [
              "<BarContainer object of 971 artists>"
            ]
          },
          "metadata": {},
          "execution_count": 36
        },
        {
          "output_type": "display_data",
          "data": {
            "image/png": "[encoded data removed]",
            "text/plain": [
              "<Figure size 432x288 with 1 Axes>"
            ]
          },
          "metadata": {
            "needs_background": "light"
          }
        }
      ]
    },
    {
      "cell_type": "code",
      "source": [
        "val_labels = ds_val['label']\n",
        "print(sum(val_labels)/len(val_labels))\n",
        "plt.plot(range(len(val_labels)), val_labels)"
      ],
      "metadata": {
        "colab": {
          "base_uri": "https://localhost:8080/",
          "height": 300
        },
        "id": "VCpIRYSOY4Wg",
        "outputId": "312f65fe-730f-4865-871f-6c0863fdd4cc"
      },
      "execution_count": 51,
      "outputs": [
        {
          "output_type": "stream",
          "name": "stdout",
          "text": [
            "0.5\n"
          ]
        },
        {
          "output_type": "execute_result",
          "data": {
            "text/plain": [
              "[<matplotlib.lines.Line2D at 0x7fab4ede9d10>]"
            ]
          },
          "metadata": {},
          "execution_count": 51
        },
        {
          "output_type": "display_data",
          "data": {
            "image/png": "[encoded data removed]",
            "text/plain": [
              "<Figure size 432x288 with 1 Axes>"
            ]
          },
          "metadata": {
            "needs_background": "light"
          }
        }
      ]
    },
    {
      "cell_type": "code",
      "source": [
        "import numpy as np\n",
        "arr = []\n",
        "for i in seq_lens:\n",
        "  arr.extend([i]*seq_lens[i])\n",
        "\n",
        "print(\"75% of train data is below\", np.quantile(arr, 0.75))\n",
        "\n",
        "arr = []\n",
        "for i in val_seq_lens:\n",
        "  arr.extend([i]*val_seq_lens[i])\n",
        "print(\"75% of val data is below\", np.quantile(arr, 0.75))\n"
      ],
      "metadata": {
        "colab": {
          "base_uri": "https://localhost:8080/"
        },
        "id": "X5MZHjnVWgie",
        "outputId": "ce6fb202-2cda-402d-8886-232a3fc48e15"
      },
      "execution_count": 49,
      "outputs": [
        {
          "output_type": "stream",
          "name": "stdout",
          "text": [
            "75% of train data is below 284.0\n",
            "75% of val data is below 277.0\n"
          ]
        }
      ]
    },
    {
      "cell_type": "code",
      "source": [
        "train_text = ds_train['text']\n"
      ],
      "metadata": {
        "id": "KM1XnMlkfiOv"
      },
      "execution_count": 84,
      "outputs": []
    },
    {
      "cell_type": "code",
      "source": [
        "import re\n",
        "\n",
        "html_tags = []\n",
        "special_chars = []\n",
        "hyperlinks = []\n",
        "words_with_nums = []\n",
        "for train in train_text:\n",
        "    #x = re.sub('\\[.*?\\]', '', x)\n",
        "    batRegex = re.compile(r'<.*?>+')\n",
        "    \n",
        "    m1=batRegex.search(train)\n",
        "    html_tags.extend(batRegex.findall(train))\n",
        "\n",
        "    batRegex = re.compile(r'\\n | \\t')\n",
        "    m1=batRegex.search(train)\n",
        "    special_chars.extend(batRegex.findall(train))\n",
        "\n",
        "    \n",
        "    batRegex = re.compile(r'https?://\\S+|www\\.\\S+')\n",
        "    m1=batRegex.search(train)\n",
        "    hyperlinks.extend(batRegex.findall(train))\n",
        "\n",
        "    batRegex = re.compile(r'([A-Za-z]+[\\d@]+[\\w@]*|[\\d@]+[A-Za-z]+[\\w@]*)')\n",
        "    m1=batRegex.search(train)\n",
        "    words_with_nums.extend(batRegex.findall(train))\n",
        "  \n",
        "print('Number of html tags:', len(html_tags))\n",
        "print('Number of special chars:', len(special_chars))\n",
        "print('Number of hyperlinks:', len(hyperlinks))\n",
        "print('Number of words with numbers:', len(words_with_nums))"
      ],
      "metadata": {
        "colab": {
          "base_uri": "https://localhost:8080/"
        },
        "id": "p0dq0VtjavuU",
        "outputId": "622a9afa-0533-427d-b84e-fb129b13a17f"
      },
      "execution_count": 85,
      "outputs": [
        {
          "output_type": "stream",
          "name": "stdout",
          "text": [
            "Number of html tags: 101892\n",
            "Number of special chars: 0\n",
            "Number of hyperlinks: 105\n",
            "Number of words with numbers: 4640\n"
          ]
        }
      ]
    },
    {
      "cell_type": "code",
      "source": [
        "train = 'abc123vc csc 12 3b'\n",
        "batRegex = re.compile(r'([A-Za-z]+[\\d@]+[\\w@]*|[\\d@]+[A-Za-z]+[\\w@]*)')\n",
        "m1=batRegex.search(train)\n",
        "print(batRegex.findall(train))"
      ],
      "metadata": {
        "colab": {
          "base_uri": "https://localhost:8080/"
        },
        "id": "hdRff9UUd9nb",
        "outputId": "039f9c29-b13a-4c65-dd22-8f9728e07c7e"
      },
      "execution_count": 76,
      "outputs": [
        {
          "output_type": "stream",
          "name": "stdout",
          "text": [
            "['abc123vc', '3b']\n"
          ]
        }
      ]
    },
    {
      "cell_type": "markdown",
      "source": [
        "A quick EDA shows the following:\n",
        "1. The dataset is not shuffled, so we must shuffle them before training so that the model could learn normally.\n",
        "2. The length of the validation dataset and the train dataset is the same\n",
        "3. The length of the texts are long, so the tokenizer maxlen should be about 250-300 to capture more than 75% of the data.\n",
        "4. The data may need to be cleaned, since there are:\n",
        "\n",
        "  Number of html tags: 101892\n",
        "\n",
        "  Number of special chars: 0\n",
        "\n",
        "  Number of hyperlinks: 105\n",
        "\n",
        "  Number of words with numbers: 4640"
      ],
      "metadata": {
        "id": "NHbNJpVuZbj6"
      }
    },
    {
      "cell_type": "code",
      "source": [
        ""
      ],
      "metadata": {
        "id": "XshVcpy9aP45"
      },
      "execution_count": null,
      "outputs": []
    }
  ]
}